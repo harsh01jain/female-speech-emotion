{
 "cells": [
  {
   "cell_type": "code",
   "execution_count": null,
   "id": "5870fba9-d828-41c7-a56f-d25323a2bd54",
   "metadata": {},
   "outputs": [
    {
     "name": "stdout",
     "output_type": "stream",
     "text": [
      "Fitting 5 folds for each of 18 candidates, totalling 90 fits\n"
     ]
    }
   ],
   "source": [
    "import pandas as pd\n",
    "import os\n",
    "from sklearn.feature_extraction.text import TfidfVectorizer\n",
    "from sklearn.model_selection import train_test_split, GridSearchCV\n",
    "from sklearn.ensemble import RandomForestClassifier\n",
    "from sklearn.metrics import accuracy_score, classification_report\n",
    "import joblib\n",
    "\n",
    "# Load the dataset\n",
    "relative_path = os.path.join('..', 'Data', 'archive (26)', 'Language Detection.csv')\n",
    "current_dir = os.getcwd()\n",
    "file_path = os.path.join(current_dir, relative_path)\n",
    "df = pd.read_csv(file_path)\n",
    "\n",
    "# Preprocess the text data using TF-IDF vectorization\n",
    "tfidf = TfidfVectorizer(stop_words='english')\n",
    "X = tfidf.fit_transform(df['Text'])\n",
    "\n",
    "# Encode the target labels\n",
    "y = df['Language']\n",
    "\n",
    "# Split the dataset into training and testing sets\n",
    "X_train, X_test, y_train, y_test = train_test_split(X, y, test_size=0.2, random_state=42)\n",
    "\n",
    "# Define a parameter grid for Grid Search\n",
    "param_grid = {\n",
    "    'n_estimators': [100, 200],\n",
    "    'max_depth': [None, 10, 20],\n",
    "    'min_samples_split': [2, 5, 10]\n",
    "}\n",
    "\n",
    "# Initialize a Random Forest classifier\n",
    "rf = RandomForestClassifier(random_state=42)\n",
    "\n",
    "# Perform Grid Search with cross-validation to find the best hyperparameters\n",
    "grid_search = GridSearchCV(rf, param_grid, cv=5, n_jobs=-1, verbose=1)\n",
    "grid_search.fit(X_train, y_train)\n",
    "\n",
    "# Get the best hyperparameters from the grid search\n",
    "best_params = grid_search.best_params_\n",
    "print(f\"Best parameters: {best_params}\")\n",
    "\n",
    "# Evaluate the model with the best found parameters\n",
    "best_rf = grid_search.best_estimator_\n",
    "y_pred = best_rf.predict(X_test)\n",
    "accuracy = accuracy_score(y_test, y_pred)\n",
    "report = classification_report(y_test, y_pred)\n",
    "\n",
    "# Print the evaluation results\n",
    "print(f\"Accuracy: {accuracy}\")\n",
    "print(f\"Classification Report:\\n{report}\")\n",
    "\n",
    "# Save the trained model and TF-IDF vectorizer for future use\n",
    "joblib.dump(best_rf, 'language_detection_rf_model.pkl')\n",
    "joblib.dump(tfidf, 'tfidf_vectorizer.pkl')\n",
    "\n",
    "# Function to load the saved model and vectorizer\n",
    "def load_language_detection_model():\n",
    "    model = joblib.load('language_detection_rf_model.pkl')\n",
    "    vectorizer = joblib.load('tfidf_vectorizer.pkl')\n",
    "    return model, vectorizer\n",
    "\n",
    "# Function to determine if a given text is in English\n",
    "def is_english(text, model, vectorizer):\n",
    "    text_features = vectorizer.transform([text])\n",
    "    prediction = model.predict(text_features)\n",
    "    return prediction[0] == 'English'\n",
    "\n",
    "# Example usage of the model\n",
    "language_model, tfidf_vectorizer = load_language_detection_model()\n",
    "sample_text = \"This is a sample text to check if it is in English.\"\n",
    "is_english_text = is_english(sample_text, language_model, tfidf_vectorizer)\n",
    "print(f\"Is the sample text in English? {is_english_text}\")\n"
   ]
  },
  {
   "cell_type": "code",
   "execution_count": null,
   "id": "159c52cb-de72-47bb-829c-d31b97b36cce",
   "metadata": {},
   "outputs": [],
   "source": []
  }
 ],
 "metadata": {
  "kernelspec": {
   "display_name": "Python 3 (ipykernel)",
   "language": "python",
   "name": "python3"
  },
  "language_info": {
   "codemirror_mode": {
    "name": "ipython",
    "version": 3
   },
   "file_extension": ".py",
   "mimetype": "text/x-python",
   "name": "python",
   "nbconvert_exporter": "python",
   "pygments_lexer": "ipython3",
   "version": "3.11.9"
  }
 },
 "nbformat": 4,
 "nbformat_minor": 5
}
